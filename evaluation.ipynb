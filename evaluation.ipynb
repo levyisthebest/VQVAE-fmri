{
 "cells": [
  {
   "cell_type": "code",
   "execution_count": 6,
   "metadata": {},
   "outputs": [
    {
     "name": "stdout",
     "output_type": "stream",
     "text": [
      "1/1 [==============================] - 1s 1s/step\n",
      "1/1 [==============================] - 1s 696ms/step\n",
      "1/1 [==============================] - 1s 695ms/step\n",
      "1/1 [==============================] - 0s 306ms/step\n",
      "1/1 [==============================] - 0s 256ms/step\n",
      "1/1 [==============================] - 0s 415ms/step\n",
      "1/1 [==============================] - 1s 878ms/step\n",
      "1/1 [==============================] - 1s 532ms/step\n",
      "1/1 [==============================] - 1s 507ms/step\n",
      "1/1 [==============================] - 0s 223ms/step\n",
      "1/1 [==============================] - 0s 235ms/step\n",
      "1/1 [==============================] - 0s 240ms/step\n",
      "1/1 [==============================] - 1s 832ms/step\n",
      "1/1 [==============================] - 1s 787ms/step\n",
      "1/1 [==============================] - 0s 236ms/step\n",
      "1/1 [==============================] - 0s 237ms/step\n",
      "1/1 [==============================] - 0s 283ms/step\n",
      "1/1 [==============================] - 1s 688ms/step\n",
      "1/1 [==============================] - 1s 893ms/step\n",
      "1/1 [==============================] - 0s 419ms/step\n",
      "1/1 [==============================] - 0s 381ms/step\n",
      "1/1 [==============================] - 0s 343ms/step\n",
      "两个GIF之间的FID值为: 156.63969820918683\n"
     ]
    }
   ],
   "source": [
    "import numpy as np\n",
    "from PIL import Image\n",
    "from tensorflow.keras.applications.inception_v3 import InceptionV3, preprocess_input\n",
    "from tensorflow.keras.preprocessing import image\n",
    "from scipy.linalg import sqrtm\n",
    "import os\n",
    "def extract_frames_from_gif(gif_path):\n",
    "    frames = []\n",
    "    with Image.open(gif_path) as im:\n",
    "        try:\n",
    "            while True:\n",
    "                frame = im.copy()\n",
    "                frames.append(frame.convert('RGB'))  # 转换为RGB格式\n",
    "                im.seek(im.tell() + 1)\n",
    "        except EOFError:\n",
    "            pass\n",
    "    return frames\n",
    "\n",
    "def get_activations(images, model):\n",
    "    activations = []\n",
    "    for img in images:\n",
    "        img = img.resize((299, 299))  # InceptionV3的输入尺寸\n",
    "        x = image.img_to_array(img)\n",
    "        x = np.expand_dims(x, axis=0)\n",
    "        x = preprocess_input(x)\n",
    "        act = model.predict(x)\n",
    "        activations.append(act[0])\n",
    "    activations = np.array(activations)\n",
    "    return activations\n",
    "\n",
    "def calculate_frechet_distance(mu1, sigma1, mu2, sigma2):\n",
    "    diff = mu1 - mu2\n",
    "    # 计算协方差矩阵的平方根\n",
    "    covmean, _ = sqrtm(sigma1.dot(sigma2), disp=False)\n",
    "    # 处理数值误差导致的复数结果\n",
    "    if np.iscomplexobj(covmean):\n",
    "        covmean = covmean.real\n",
    "    # 计算FID\n",
    "    fid = diff.dot(diff) + np.trace(sigma1 + sigma2 - 2 * covmean)\n",
    "    return fid\n",
    "\n",
    "# 主程序\n",
    "path1 = ''\n",
    "path2 = ''\n",
    "files1 = os.listdir(path1)\n",
    "files2 = os.listdir(path2)\n",
    "re = []\n",
    "for i in range(len(files1)):\n",
    "    gif_path1 = path1 + files1[i]   # 第一个GIF文件路径\n",
    "    gif_path2 = path2 + files2[i]   # 第二个GIF文件路径\n",
    "\n",
    "    # 提取两个GIF的帧\n",
    "    frames1 = extract_frames_from_gif(gif_path1)\n",
    "    frames2 = extract_frames_from_gif(gif_path2)\n",
    "\n",
    "    # 加载预训练的InceptionV3模型\n",
    "    model = InceptionV3(include_top=False, pooling='avg', input_shape=(299, 299, 3))\n",
    "\n",
    "    # 获取激活值\n",
    "    act1 = get_activations(frames1, model)\n",
    "    act2 = get_activations(frames2, model)\n",
    "\n",
    "    # 计算均值和协方差\n",
    "    mu1, sigma1 = np.mean(act1, axis=0), np.cov(act1, rowvar=False)\n",
    "    mu2, sigma2 = np.mean(act2, axis=0), np.cov(act2, rowvar=False)\n",
    "\n",
    "    # 计算FID\n",
    "    fid_value = calculate_frechet_distance(mu1, sigma1, mu2, sigma2)\n",
    "    print(f'两个GIF之间的FID值为: {fid_value}')\n",
    "    re.append(fid_value)\n",
    "print(np.mean(re))\n"
   ]
  },
  {
   "cell_type": "code",
   "execution_count": 8,
   "metadata": {},
   "outputs": [
    {
     "data": {
      "text/plain": [
       "1.5"
      ]
     },
     "execution_count": 8,
     "metadata": {},
     "output_type": "execute_result"
    }
   ],
   "source": [
    "import numpy as np\n",
    "np.mean([1,2])\n"
   ]
  },
  {
   "cell_type": "code",
   "execution_count": 11,
   "metadata": {},
   "outputs": [
    {
     "name": "stdout",
     "output_type": "stream",
     "text": [
      "\u001b[31mERROR: Invalid requirement: 'pdf2image,'\u001b[0m\u001b[31m\n",
      "\u001b[0m"
     ]
    }
   ],
   "source": [
    "!pip install pdf2image"
   ]
  },
  {
   "cell_type": "code",
   "execution_count": 1,
   "metadata": {},
   "outputs": [],
   "source": [
    "from pdf2image import convert_from_path\n",
    "\n",
    "# Convert the PDF pages to images\n",
    "pdf_path = '/Health - ECG 2024-09-14 at 00.53.pdf'\n",
    "pages = convert_from_path(pdf_path, 300)\n",
    "\n",
    "# Save the images of pages containing the ECG\n",
    "for i, page in enumerate(pages):\n",
    "    page.save(f'ecg_page_{i+1}.png', 'PNG')\n"
   ]
  },
  {
   "cell_type": "code",
   "execution_count": 20,
   "metadata": {},
   "outputs": [],
   "source": [
    "import cv2\n",
    "import numpy as np\n",
    "\n",
    "# Load the ECG image\n",
    "ecg_image_path = 'ecg_page_2.png'  # Adjust the page index based on the correct page number\n",
    "img = cv2.imread(ecg_image_path, cv2.IMREAD_GRAYSCALE)\n",
    "\n",
    "# Apply edge detection to highlight the ECG line\n",
    "edges = cv2.Canny(img, 50, 150)\n",
    "\n",
    "# Find contours in the image\n",
    "contours, _ = cv2.findContours(edges, cv2.RETR_EXTERNAL, cv2.CHAIN_APPROX_SIMPLE)\n",
    "\n",
    "# Initialize an empty array to store the ECG signal\n",
    "ecg_signal = []\n",
    "\n",
    "# Extract the points from the largest contour (assuming it’s the ECG signal)\n",
    "if contours:\n",
    "    largest_contour = max(contours, key=cv2.contourArea)\n",
    "    for point in largest_contour:\n",
    "        ecg_signal.append(point[0][1])  # Append the Y-coordinate of each point\n",
    "\n",
    "# Normalize the signal (optional, depending on your use case)\n",
    "ecg_signal = np.array(ecg_signal)\n",
    "# ecg_signal = (ecg_signal - np.min(ecg_signal)) / (np.max(ecg_signal) - np.min(ecg_signal))\n"
   ]
  },
  {
   "cell_type": "code",
   "execution_count": 5,
   "metadata": {},
   "outputs": [
    {
     "data": {
      "text/plain": [
       "array([[0.        , 0.        , 0.        , ..., 0.        , 0.        ,\n",
       "        0.        ],\n",
       "       [0.        , 0.04761905, 0.11111111, ..., 0.29494355, 0.26775216,\n",
       "        0.29100529],\n",
       "       [0.        , 0.        , 0.        , ..., 0.        , 0.        ,\n",
       "        0.        ],\n",
       "       ...,\n",
       "       [0.        , 0.        , 0.        , ..., 0.        , 0.        ,\n",
       "        0.        ],\n",
       "       [0.        , 0.        , 0.        , ..., 0.        , 0.        ,\n",
       "        0.        ],\n",
       "       [0.        , 0.        , 0.        , ..., 0.        , 0.        ,\n",
       "        0.        ]])"
      ]
     },
     "execution_count": 5,
     "metadata": {},
     "output_type": "execute_result"
    }
   ],
   "source": [
    "process_ekg(ecg_signal)"
   ]
  },
  {
   "cell_type": "code",
   "execution_count": 2,
   "metadata": {},
   "outputs": [],
   "source": [
    "import torch\n",
    "from scipy import interpolate\n",
    "def process_ekg(ekg_data, target_length=2250, repetitions=16):\n",
    "    processed_ekg = np.zeros((12, target_length))\n",
    "    \n",
    "    # 원본 데이터를 16번 반복\n",
    "    repeated_data = np.tile(ekg_data, repetitions)\n",
    "    \n",
    "    # 반복된 데이터의 길이\n",
    "    original_length = len(repeated_data)\n",
    "    \n",
    "    if original_length < target_length:\n",
    "        # Interpolation\n",
    "        x = np.linspace(0, 1, original_length)\n",
    "        f = interpolate.interp1d(x, repeated_data, kind='linear')\n",
    "        x_new = np.linspace(0, 1, target_length)\n",
    "        processed_ekg[1] = f(x_new)\n",
    "    elif original_length > target_length:\n",
    "        # Resampling\n",
    "        x = np.linspace(0, 1, original_length)\n",
    "        x_new = np.linspace(0, 1, target_length)\n",
    "        processed_ekg[1] = np.interp(x_new, x, repeated_data)\n",
    "    else:\n",
    "        processed_ekg[1] = repeated_data[:target_length]\n",
    "    if not isinstance(processed_ekg, np.ndarray):\n",
    "        processed_ekg = np.array(processed_ekg)\n",
    "    \n",
    "    # Z-score 정규화\n",
    "    processed_ekg = (processed_ekg - np.mean(processed_ekg)) / np.std(processed_ekg)\n",
    "    \n",
    "    # 이미 적절한 샘플링 레이트라고 가정. 필요하다면 여기서 리샘플링\n",
    "    \n",
    "    return torch.from_numpy(processed_ekg).float().unsqueeze(0)  # (1, length)\n",
    "   "
   ]
  },
  {
   "cell_type": "code",
   "execution_count": 30,
   "metadata": {},
   "outputs": [
    {
     "data": {
      "image/png": "[encoded data removed]",
      "text/plain": [
       "<Figure size 640x480 with 1 Axes>"
      ]
     },
     "metadata": {},
     "output_type": "display_data"
    }
   ],
   "source": [
    "import matplotlib.pyplot as plt\n",
    "plt.plot(signal)\n",
    "plt.show()\n"
   ]
  },
  {
   "cell_type": "code",
   "execution_count": 19,
   "metadata": {},
   "outputs": [
    {
     "data": {
      "image/png": "[encoded data removed]",
      "text/plain": [
       "<Figure size 640x480 with 1 Axes>"
      ]
     },
     "metadata": {},
     "output_type": "display_data"
    },
    {
     "name": "stdout",
     "output_type": "stream",
     "text": [
      "[0. 0. 0. ... 0. 0. 0.]\n"
     ]
    }
   ],
   "source": [
    "import cv2\n",
    "import numpy as np\n",
    "import matplotlib.pyplot as plt\n",
    "\n",
    "# Load the image\n",
    "image_path = 'ecg_page_2.png'\n",
    "image = cv2.imread(image_path)\n",
    "\n",
    "# Convert the image to RGB (OpenCV loads images in BGR by default)\n",
    "image_rgb = cv2.cvtColor(image, cv2.COLOR_BGR2RGB)\n",
    "\n",
    "# Crop the image to focus on the first row of the ECG signal\n",
    "# Adjust these values based on the actual position of the first row in the image\n",
    "cropped_image = image_rgb[:, :]  # Modify these values if necessary\n",
    "\n",
    "# Isolate the red color channel (assumes red is the dominant color of the ECG)\n",
    "lower_red = np.array([100, 0, 0])\n",
    "upper_red = np.array([255, 100, 100])\n",
    "\n",
    "# Create a mask that captures the red lines in the cropped image\n",
    "mask = cv2.inRange(cropped_image, lower_red, upper_red)\n",
    "\n",
    "# Apply the mask to extract only the red parts of the cropped image\n",
    "red_extracted = cv2.bitwise_and(cropped_image, cropped_image, mask=mask)\n",
    "\n",
    "# Convert the red extraction to grayscale to detect the ECG signal\n",
    "gray_ecg = cv2.cvtColor(red_extracted, cv2.COLOR_RGB2GRAY)\n",
    "\n",
    "# Find the coordinates of the non-zero values, which correspond to the ECG signal\n",
    "y_coords, x_coords = np.where(gray_ecg > 0)\n",
    "\n",
    "# Create an empty array to hold the ECG signal from the first row\n",
    "ecg_signal_first_row = np.zeros(gray_ecg.shape[1])\n",
    "\n",
    "# Populate the ECG signal by averaging the y-values at each x-coordinate\n",
    "for x in range(gray_ecg.shape[1]):\n",
    "    y_vals = y_coords[x_coords == x]\n",
    "    if len(y_vals) > 0:\n",
    "        ecg_signal_first_row[x] = np.mean(y_vals)\n",
    "\n",
    "# Normalize the ECG signal (optional)\n",
    "ecg_signal_first_row = (ecg_signal_first_row - np.min(ecg_signal_first_row)) / (np.max(ecg_signal_first_row) - np.min(ecg_signal_first_row))\n",
    "\n",
    "# Plot the extracted ECG signal from the first row\n",
    "plt.plot(ecg_signal_first_row)\n",
    "plt.title(\"Extracted ECG Signal from First Row\")\n",
    "plt.xlabel(\"Time (samples)\")\n",
    "plt.ylabel(\"Amplitude (normalized)\")\n",
    "plt.show()\n",
    "\n",
    "# Output the ECG signal as an array\n",
    "print(ecg_signal_first_row)\n"
   ]
  },
  {
   "cell_type": "code",
   "execution_count": 10,
   "metadata": {},
   "outputs": [
    {
     "data": {
      "text/plain": [
       "(2550, 3301, 3)"
      ]
     },
     "execution_count": 10,
     "metadata": {},
     "output_type": "execute_result"
    }
   ],
   "source": [
    "image.shape"
   ]
  },
  {
   "cell_type": "code",
   "execution_count": 25,
   "metadata": {},
   "outputs": [
    {
     "data": {
      "text/plain": [
       "(366, 2972)"
      ]
     },
     "execution_count": 25,
     "metadata": {},
     "output_type": "execute_result"
    }
   ],
   "source": [
    "from PIL import Image\n",
    "import numpy as np\n",
    "\n",
    "# Load the image\n",
    "image_path = 'ecg_page_2.png'\n",
    "image = Image.open(image_path)\n",
    "\n",
    "# Convert image to numpy array\n",
    "image_array = np.array(image)\n",
    "\n",
    "# Extract the red channel\n",
    "red_channel = image_array[:, :, 0]\n",
    "\n",
    "# Since the background is white (255, 255, 255), we will extract only the red values\n",
    "# which are significantly lower than 255 to identify the ECG line\n",
    "threshold = 200\n",
    "ecg_signal = np.where(red_channel < threshold, red_channel, 0)\n",
    "\n",
    "# Display the shape to see what we've got\n",
    "ecg_signal.shape\n"
   ]
  },
  {
   "cell_type": "code",
   "execution_count": 29,
   "metadata": {},
   "outputs": [
    {
     "name": "stdout",
     "output_type": "stream",
     "text": [
      "提取的一维信号： [0. 0. 0. ... 0. 0. 0.]\n"
     ]
    }
   ],
   "source": [
    "import cv2\n",
    "import numpy as np\n",
    "\n",
    "# 读取图像\n",
    "image = cv2.imread('/ecg_page_2.png')  # 替换为你的图像文件路径\n",
    "\n",
    "# 将图像转换为HSV颜色空间\n",
    "hsv = cv2.cvtColor(image, cv2.COLOR_BGR2HSV)\n",
    "\n",
    "# 定义红色的HSV范围\n",
    "# 红色在HSV颜色空间中有两个范围，需要分别处理\n",
    "lower_red1 = np.array([0, 70, 50])\n",
    "upper_red1 = np.array([10, 255, 255])\n",
    "\n",
    "lower_red2 = np.array([170, 70, 50])\n",
    "upper_red2 = np.array([180, 255, 255])\n",
    "\n",
    "# 创建红色掩码\n",
    "mask1 = cv2.inRange(hsv, lower_red1, upper_red1)\n",
    "mask2 = cv2.inRange(hsv, lower_red2, upper_red2)\n",
    "mask = cv2.bitwise_or(mask1, mask2)\n",
    "\n",
    "# 对掩码进行形态学处理，去除噪点\n",
    "kernel = np.ones((3, 3), np.uint8)\n",
    "mask = cv2.morphologyEx(mask, cv2.MORPH_OPEN, kernel)\n",
    "mask = cv2.morphologyEx(mask, cv2.MORPH_DILATE, kernel)\n",
    "\n",
    "# 找到红色像素的位置\n",
    "red_positions = np.column_stack(np.where(mask > 0))\n",
    "\n",
    "# 将二维的位置转换为一维信号，例如对行求和\n",
    "signal = np.sum(mask, axis=0)\n",
    "\n",
    "# 归一化信号（可选）\n",
    "signal = signal / np.max(signal)\n",
    "\n",
    "# 保存或输出一维信号\n",
    "# np.savetxt('signal.txt', signal)\n",
    "\n",
    "print(\"提取的一维信号：\", signal)\n"
   ]
  },
  {
   "cell_type": "code",
   "execution_count": 9,
   "metadata": {},
   "outputs": [
    {
     "name": "stdout",
     "output_type": "stream",
     "text": [
      "Cloning into 'pytorch-i3d'...\n",
      "remote: Enumerating objects: 21, done.\u001b[K\n",
      "remote: Total 21 (delta 0), reused 0 (delta 0), pack-reused 21 (from 1)\u001b[K\n",
      "Receiving objects: 100% (21/21), 178.18 MiB | 31.45 MiB/s, done.\n",
      "Resolving deltas: 100% (5/5), done.\n",
      "Updating files: 100% (12/12), done.\n"
     ]
    }
   ],
   "source": [
    "!git clone https://github.com/piergiaj/pytorch-i3d.git"
   ]
  },
  {
   "cell_type": "code",
   "execution_count": 10,
   "metadata": {},
   "outputs": [
    {
     "name": "stdout",
     "output_type": "stream",
     "text": [
      "python: can't open file 'setup.py': [Errno 2] No such file or directory\n"
     ]
    }
   ],
   "source": [
    "!cd pytorch-i3d\n",
    "!python setup.py install\n",
    "!cd .."
   ]
  },
  {
   "cell_type": "code",
   "execution_count": 3,
   "metadata": {},
   "outputs": [
    {
     "name": "stderr",
     "output_type": "stream",
     "text": [
      "2024-09-17 22:27:59.334340: W tensorflow/core/common_runtime/gpu/gpu_device.cc:1960] Cannot dlopen some GPU libraries. Please make sure the missing libraries mentioned above are installed properly if you would like to use GPU. Follow the guide at https://www.tensorflow.org/install/gpu for how to download and setup the required libraries for your platform.\n",
      "Skipping registering GPU devices...\n"
     ]
    },
    {
     "ename": "TypeError",
     "evalue": "'AutoTrackable' object is not callable",
     "output_type": "error",
     "traceback": [
      "\u001b[0;31m---------------------------------------------------------------------------\u001b[0m",
      "\u001b[0;31mTypeError\u001b[0m                                 Traceback (most recent call last)",
      "Cell \u001b[0;32mIn[3], line 126\u001b[0m\n\u001b[1;32m    123\u001b[0m video2 \u001b[38;5;241m=\u001b[39m load_gif(\u001b[38;5;124m'\u001b[39m\u001b[38;5;124m/raid/home/CAMCA/yl463/Video/TestDataApical_embedding_mixing/pred/A2C.USm.1.2.840.114089.1.0.1.2887499449.1641693197.4144.17402_1_21.mp4_pred.gif\u001b[39m\u001b[38;5;124m'\u001b[39m)\n\u001b[1;32m    125\u001b[0m \u001b[38;5;66;03m# Compute FVD score\u001b[39;00m\n\u001b[0;32m--> 126\u001b[0m fvd_score \u001b[38;5;241m=\u001b[39m \u001b[43mcompute_fvd\u001b[49m\u001b[43m(\u001b[49m\u001b[43mvideo1\u001b[49m\u001b[43m,\u001b[49m\u001b[43m \u001b[49m\u001b[43mvideo2\u001b[49m\u001b[43m,\u001b[49m\u001b[43m \u001b[49m\u001b[43mi3d_model\u001b[49m\u001b[43m)\u001b[49m\n\u001b[1;32m    127\u001b[0m \u001b[38;5;28mprint\u001b[39m(\u001b[38;5;124mf\u001b[39m\u001b[38;5;124m\"\u001b[39m\u001b[38;5;124mFVD Score: \u001b[39m\u001b[38;5;132;01m{\u001b[39;00mfvd_score\u001b[38;5;132;01m}\u001b[39;00m\u001b[38;5;124m\"\u001b[39m)\n",
      "Cell \u001b[0;32mIn[3], line 110\u001b[0m, in \u001b[0;36mcompute_fvd\u001b[0;34m(video1, video2, model)\u001b[0m\n\u001b[1;32m    107\u001b[0m video1_preprocessed \u001b[38;5;241m=\u001b[39m preprocess_video(video1)\n\u001b[1;32m    108\u001b[0m video2_preprocessed \u001b[38;5;241m=\u001b[39m preprocess_video(video2)\n\u001b[0;32m--> 110\u001b[0m features1 \u001b[38;5;241m=\u001b[39m \u001b[43mextract_features\u001b[49m\u001b[43m(\u001b[49m\u001b[43mvideo1_preprocessed\u001b[49m\u001b[43m,\u001b[49m\u001b[43m \u001b[49m\u001b[43mmodel\u001b[49m\u001b[43m)\u001b[49m\n\u001b[1;32m    111\u001b[0m features2 \u001b[38;5;241m=\u001b[39m extract_features(video2_preprocessed, model)\n\u001b[1;32m    113\u001b[0m \u001b[38;5;66;03m# Compute mean and covariance\u001b[39;00m\n",
      "Cell \u001b[0;32mIn[3], line 73\u001b[0m, in \u001b[0;36mextract_features\u001b[0;34m(video, model)\u001b[0m\n\u001b[1;32m     62\u001b[0m \u001b[38;5;28;01mdef\u001b[39;00m \u001b[38;5;21mextract_features\u001b[39m(video, model):\n\u001b[1;32m     63\u001b[0m \u001b[38;5;250m    \u001b[39m\u001b[38;5;124;03m\"\"\"\u001b[39;00m\n\u001b[1;32m     64\u001b[0m \u001b[38;5;124;03m    Extract I3D features for a given video.\u001b[39;00m\n\u001b[1;32m     65\u001b[0m \u001b[38;5;124;03m    \u001b[39;00m\n\u001b[0;32m   (...)\u001b[0m\n\u001b[1;32m     71\u001b[0m \u001b[38;5;124;03m        Video features of shape (1, num_features).\u001b[39;00m\n\u001b[1;32m     72\u001b[0m \u001b[38;5;124;03m    \"\"\"\u001b[39;00m\n\u001b[0;32m---> 73\u001b[0m     \u001b[38;5;28;01mreturn\u001b[39;00m \u001b[43mmodel\u001b[49m\u001b[43m(\u001b[49m\u001b[43mvideo\u001b[49m\u001b[43m)\u001b[49m[\u001b[38;5;124m'\u001b[39m\u001b[38;5;124mdefault\u001b[39m\u001b[38;5;124m'\u001b[39m]\n",
      "\u001b[0;31mTypeError\u001b[0m: 'AutoTrackable' object is not callable"
     ]
    }
   ],
   "source": [
    "import tensorflow as tf\n",
    "import numpy as np\n",
    "from scipy import linalg\n",
    "from tensorflow_hub import load as hub_load\n",
    "from PIL import Image\n",
    "\n",
    "# Load pre-trained I3D model from TensorFlow Hub\n",
    "i3d_model = hub_load(\"https://tfhub.dev/deepmind/i3d-kinetics-400/1\")\n",
    "\n",
    "def load_gif(filename):\n",
    "    \"\"\"\n",
    "    Load a GIF file and convert it into a numpy array of shape (frames, height, width, channels).\n",
    "    \n",
    "    Args:\n",
    "        filename: Path to the GIF file.\n",
    "    \n",
    "    Returns:\n",
    "        Numpy array with shape (frames, height, width, 3).\n",
    "    \"\"\"\n",
    "    gif = Image.open(filename)\n",
    "    frames = []\n",
    "    \n",
    "    try:\n",
    "        while True:\n",
    "            # Convert each frame to RGB and resize to (128, 128)\n",
    "            frame = gif.convert(\"RGB\").resize((128, 128))\n",
    "            frames.append(np.array(frame))\n",
    "            gif.seek(gif.tell() + 1)\n",
    "    except EOFError:\n",
    "        pass  # End of sequence\n",
    "    \n",
    "    # Stack the frames into a numpy array (frames, height, width, channels)\n",
    "    return np.stack(frames)\n",
    "\n",
    "def preprocess_video(video, target_frames=11, target_size=(128, 128)):\n",
    "    \"\"\"\n",
    "    Preprocess video for I3D model: resize, center-crop, and normalize.\n",
    "    \n",
    "    Args:\n",
    "        video: Input video as a numpy array of shape (frames, height, width, channels).\n",
    "        target_frames: Number of frames to sample.\n",
    "        target_size: Target size for resizing (height, width).\n",
    "        \n",
    "    Returns:\n",
    "        Preprocessed video of shape (1, target_frames, target_size[0], target_size[1], 3).\n",
    "    \"\"\"\n",
    "    num_frames = video.shape[0]\n",
    "    \n",
    "    # Sample frames evenly\n",
    "    indices = np.linspace(0, num_frames - 1, target_frames).astype(int)\n",
    "    sampled_video = video[indices]\n",
    "\n",
    "    # Resize to target size\n",
    "    sampled_video = tf.image.resize(sampled_video, target_size)\n",
    "\n",
    "    # Normalize video\n",
    "    sampled_video = sampled_video / 255.0\n",
    "\n",
    "    # Add batch dimension\n",
    "    return tf.expand_dims(sampled_video, axis=0)\n",
    "\n",
    "def extract_features(video, model):\n",
    "    \"\"\"\n",
    "    Extract I3D features for a given video.\n",
    "    \n",
    "    Args:\n",
    "        video: Preprocessed video as a tensor of shape (1, frames, height, width, 3).\n",
    "        model: Pre-trained I3D model.\n",
    "        \n",
    "    Returns:\n",
    "        Video features of shape (1, num_features).\n",
    "    \"\"\"\n",
    "    return model(video)['default']\n",
    "\n",
    "def calculate_frechet_distance(mu1, sigma1, mu2, sigma2):\n",
    "    \"\"\"\n",
    "    Compute the Frechet Distance between two Gaussian distributions.\n",
    "    \n",
    "    Args:\n",
    "        mu1, sigma1: Mean and covariance of the first distribution.\n",
    "        mu2, sigma2: Mean and covariance of the second distribution.\n",
    "        \n",
    "    Returns:\n",
    "        The Frechet distance.\n",
    "    \"\"\"\n",
    "    diff = mu1 - mu2\n",
    "    covmean, _ = linalg.sqrtm(sigma1.dot(sigma2), disp=False)\n",
    "    \n",
    "    # Numerical stability check\n",
    "    if np.iscomplexobj(covmean):\n",
    "        covmean = covmean.real\n",
    "    \n",
    "    return (diff.dot(diff) + np.trace(sigma1 + sigma2 - 2 * covmean))\n",
    "\n",
    "def compute_fvd(video1, video2, model):\n",
    "    \"\"\"\n",
    "    Compute FVD between two videos.\n",
    "    \n",
    "    Args:\n",
    "        video1, video2: Input videos as numpy arrays of shape (frames, height, width, channels).\n",
    "        model: Pre-trained I3D model.\n",
    "        \n",
    "    Returns:\n",
    "        FVD score.\n",
    "    \"\"\"\n",
    "    # Preprocess and extract features\n",
    "    video1_preprocessed = preprocess_video(video1)\n",
    "    video2_preprocessed = preprocess_video(video2)\n",
    "    \n",
    "    features1 = extract_features(video1_preprocessed, model)\n",
    "    features2 = extract_features(video2_preprocessed, model)\n",
    "\n",
    "    # Compute mean and covariance\n",
    "    mu1, sigma1 = np.mean(features1, axis=0), np.cov(features1, rowvar=False)\n",
    "    mu2, sigma2 = np.mean(features2, axis=0), np.cov(features2, rowvar=False)\n",
    "    \n",
    "    # Compute FVD score\n",
    "    return calculate_frechet_distance(mu1, sigma1, mu2, sigma2)\n",
    "\n",
    "# Example usage\n",
    "# Load two GIF files (11 frames, 128x128)\n",
    "video1 = load_gif('/gt/A2C.USm.1.2.840.114089.1.0.1.2887499449.1641693197.4144.17402_1_21.mp4.gif')\n",
    "video2 = load_gif('/pred/A2C.USm.1.2.840.114089.1.0.1.2887499449.1641693197.4144.17402_1_21.mp4_pred.gif')\n",
    "\n",
    "# Compute FVD score\n",
    "fvd_score = compute_fvd(video1, video2, i3d_model)\n",
    "print(f\"FVD Score: {fvd_score}\")\n"
   ]
  },
  {
   "cell_type": "code",
   "execution_count": 7,
   "metadata": {},
   "outputs": [
    {
     "ename": "AttributeError",
     "evalue": "module 'torch.linalg' has no attribute 'sqrtm'",
     "output_type": "error",
     "traceback": [
      "\u001b[0;31m---------------------------------------------------------------------------\u001b[0m",
      "\u001b[0;31mAttributeError\u001b[0m                            Traceback (most recent call last)",
      "Cell \u001b[0;32mIn[7], line 97\u001b[0m\n\u001b[1;32m     94\u001b[0m     \u001b[38;5;28mprint\u001b[39m(\u001b[38;5;124m'\u001b[39m\u001b[38;5;124m两个视频之间的FVD值为:\u001b[39m\u001b[38;5;124m'\u001b[39m, fvd_value)\n\u001b[1;32m     96\u001b[0m \u001b[38;5;28;01mif\u001b[39;00m \u001b[38;5;18m__name__\u001b[39m \u001b[38;5;241m==\u001b[39m \u001b[38;5;124m'\u001b[39m\u001b[38;5;124m__main__\u001b[39m\u001b[38;5;124m'\u001b[39m:\n\u001b[0;32m---> 97\u001b[0m     \u001b[43mmain\u001b[49m\u001b[43m(\u001b[49m\u001b[43m)\u001b[49m\n",
      "Cell \u001b[0;32mIn[7], line 93\u001b[0m, in \u001b[0;36mmain\u001b[0;34m()\u001b[0m\n\u001b[1;32m     90\u001b[0m sigma2 \u001b[38;5;241m=\u001b[39m torch\u001b[38;5;241m.\u001b[39mfrom_numpy(np\u001b[38;5;241m.\u001b[39mcov(features2\u001b[38;5;241m.\u001b[39mnumpy(), rowvar\u001b[38;5;241m=\u001b[39m\u001b[38;5;28;01mFalse\u001b[39;00m))\n\u001b[1;32m     92\u001b[0m \u001b[38;5;66;03m# 计算FVD\u001b[39;00m\n\u001b[0;32m---> 93\u001b[0m fvd_value \u001b[38;5;241m=\u001b[39m \u001b[43mcompute_fvd\u001b[49m\u001b[43m(\u001b[49m\u001b[43mmu1\u001b[49m\u001b[43m,\u001b[49m\u001b[43m \u001b[49m\u001b[43msigma1\u001b[49m\u001b[43m,\u001b[49m\u001b[43m \u001b[49m\u001b[43mmu2\u001b[49m\u001b[43m,\u001b[49m\u001b[43m \u001b[49m\u001b[43msigma2\u001b[49m\u001b[43m)\u001b[49m\n\u001b[1;32m     94\u001b[0m \u001b[38;5;28mprint\u001b[39m(\u001b[38;5;124m'\u001b[39m\u001b[38;5;124m两个视频之间的FVD值为:\u001b[39m\u001b[38;5;124m'\u001b[39m, fvd_value)\n",
      "Cell \u001b[0;32mIn[7], line 34\u001b[0m, in \u001b[0;36mcompute_fvd\u001b[0;34m(mu1, sigma1, mu2, sigma2)\u001b[0m\n\u001b[1;32m     32\u001b[0m \u001b[38;5;28;01mdef\u001b[39;00m \u001b[38;5;21mcompute_fvd\u001b[39m(mu1, sigma1, mu2, sigma2):\n\u001b[1;32m     33\u001b[0m     diff \u001b[38;5;241m=\u001b[39m mu1 \u001b[38;5;241m-\u001b[39m mu2\n\u001b[0;32m---> 34\u001b[0m     covmean, _ \u001b[38;5;241m=\u001b[39m \u001b[43mtorch\u001b[49m\u001b[38;5;241;43m.\u001b[39;49m\u001b[43mlinalg\u001b[49m\u001b[38;5;241;43m.\u001b[39;49m\u001b[43msqrtm\u001b[49m(sigma1 \u001b[38;5;241m@\u001b[39m sigma2, disp\u001b[38;5;241m=\u001b[39m\u001b[38;5;28;01mFalse\u001b[39;00m)\n\u001b[1;32m     35\u001b[0m     \u001b[38;5;28;01mif\u001b[39;00m \u001b[38;5;129;01mnot\u001b[39;00m torch\u001b[38;5;241m.\u001b[39misfinite(covmean)\u001b[38;5;241m.\u001b[39mall():\n\u001b[1;32m     36\u001b[0m         offset \u001b[38;5;241m=\u001b[39m torch\u001b[38;5;241m.\u001b[39meye(sigma1\u001b[38;5;241m.\u001b[39msize(\u001b[38;5;241m0\u001b[39m)) \u001b[38;5;241m*\u001b[39m \u001b[38;5;241m1e-6\u001b[39m\n",
      "\u001b[0;31mAttributeError\u001b[0m: module 'torch.linalg' has no attribute 'sqrtm'"
     ]
    }
   ],
   "source": [
    "import torch\n",
    "import torch.nn as nn\n",
    "import torchvision.transforms as transforms\n",
    "from PIL import Image\n",
    "import numpy as np\n",
    "\n",
    "# 定义读取GIF并提取帧的函数\n",
    "def read_gif(file_path):\n",
    "    frames = []\n",
    "    with Image.open(file_path) as im:\n",
    "        try:\n",
    "            while True:\n",
    "                frame = im.copy()\n",
    "                frames.append(frame)\n",
    "                im.seek(im.tell() + 1)\n",
    "        except EOFError:\n",
    "            pass\n",
    "    return frames\n",
    "\n",
    "# 定义处理帧的函数\n",
    "def process_frames(frames, transform):\n",
    "    processed_frames = []\n",
    "    for frame in frames:\n",
    "        frame = frame.convert('RGB')  # 转换为RGB\n",
    "        frame = transform(frame)\n",
    "        processed_frames.append(frame)\n",
    "    # 将帧堆叠成形状为[T, C, H, W]的张量\n",
    "    video_tensor = torch.stack(processed_frames)  # Shape: [T, C, H, W]\n",
    "    return video_tensor\n",
    "\n",
    "# 定义计算FVD的函数\n",
    "def compute_fvd(mu1, sigma1, mu2, sigma2):\n",
    "    diff = mu1 - mu2\n",
    "    covmean, _ = torch.linalg.sqrtm(sigma1 @ sigma2, disp=False)\n",
    "    if not torch.isfinite(covmean).all():\n",
    "        offset = torch.eye(sigma1.size(0)) * 1e-6\n",
    "        covmean = torch.linalg.sqrtm((sigma1 + offset) @ (sigma2 + offset))\n",
    "    fvd = diff @ diff + torch.trace(sigma1 + sigma2 - 2 * covmean)\n",
    "    return fvd.item()\n",
    "\n",
    "def main():\n",
    "    # 读取GIF文件\n",
    "    frames1 = read_gif('/gt/A2C.USm.1.2.840.114089.1.0.1.2887499449.1641693197.4144.17402_1_21.mp4.gif')\n",
    "    frames2 = read_gif('/pred/A2C.USm.1.2.840.114089.1.0.1.2887499449.1641693197.4144.17402_1_21.mp4_pred.gif')\n",
    "\n",
    "    # 定义图像转换\n",
    "    transform = transforms.Compose([\n",
    "        transforms.Resize((224, 224)),\n",
    "        transforms.ToTensor(),\n",
    "        # 根据I3D模型的要求进行归一化\n",
    "        transforms.Normalize(mean=[0.5]*3, std=[0.5]*3)\n",
    "    ])\n",
    "\n",
    "    # 处理帧\n",
    "    video1 = process_frames(frames1, transform)  # Shape: [T, C, H, W]\n",
    "    video2 = process_frames(frames2, transform)\n",
    "\n",
    "    # 调整维度为[C, T, H, W]\n",
    "    video1 = video1.permute(1, 0, 2, 3)  # Shape: [C, T, H, W]\n",
    "    video2 = video2.permute(1, 0, 2, 3)\n",
    "\n",
    "    # 添加批次维度\n",
    "    video1 = video1.unsqueeze(0)  # Shape: [B, C, T, H, W]\n",
    "    video2 = video2.unsqueeze(0)\n",
    "\n",
    "    # 加载I3D模型\n",
    "    import sys\n",
    "    sys.path.append('/pytorch-i3d')\n",
    "    from pytorch_i3d import InceptionI3d  # 请确保已安装pytorch_i3d模块\n",
    "    i3d = InceptionI3d()\n",
    "\n",
    "    # 加载预训练权重（需要提前下载）\n",
    "    # i3d.load_state_dict(torch.load('path_to_i3d_weights.pt'))\n",
    "\n",
    "    i3d.eval()\n",
    "\n",
    "    # 提取特征\n",
    "    with torch.no_grad():\n",
    "        features1 = i3d.extract_features(video1)  # Shape: [B, 1024, T/8, 7, 7]\n",
    "        features2 = i3d.extract_features(video2)\n",
    "\n",
    "    # 展平特征\n",
    "    features1 = features1.view(features1.size(0), -1)\n",
    "    features2 = features2.view(features2.size(0), -1)\n",
    "\n",
    "    # 计算均值和协方差\n",
    "    mu1 = torch.mean(features1, dim=0)\n",
    "    mu2 = torch.mean(features2, dim=0)\n",
    "    sigma1 = torch.from_numpy(np.cov(features1.numpy(), rowvar=False))\n",
    "    sigma2 = torch.from_numpy(np.cov(features2.numpy(), rowvar=False))\n",
    "\n",
    "    # 计算FVD\n",
    "    fvd_value = compute_fvd(mu1, sigma1, mu2, sigma2)\n",
    "    print('两个视频之间的FVD值为:', fvd_value)\n",
    "\n",
    "if __name__ == '__main__':\n",
    "    main()\n"
   ]
  },
  {
   "cell_type": "code",
   "execution_count": 6,
   "metadata": {},
   "outputs": [
    {
     "name": "stdout",
     "output_type": "stream",
     "text": [
      "Requirement already satisfied: torch in /home/local/PARTNERS/yl463/anaconda3/envs/VBbench/lib/python3.8/site-packages (1.13.1)\n",
      "Requirement already satisfied: typing-extensions in /home/local/PARTNERS/yl463/anaconda3/envs/VBbench/lib/python3.8/site-packages (from torch) (4.5.0)\n",
      "Requirement already satisfied: nvidia-cuda-runtime-cu11==11.7.99 in /home/local/PARTNERS/yl463/anaconda3/envs/VBbench/lib/python3.8/site-packages (from torch) (11.7.99)\n",
      "Requirement already satisfied: nvidia-cudnn-cu11==8.5.0.96 in /home/local/PARTNERS/yl463/anaconda3/envs/VBbench/lib/python3.8/site-packages (from torch) (8.5.0.96)\n",
      "Requirement already satisfied: nvidia-cublas-cu11==11.10.3.66 in /home/local/PARTNERS/yl463/anaconda3/envs/VBbench/lib/python3.8/site-packages (from torch) (11.10.3.66)\n",
      "Requirement already satisfied: nvidia-cuda-nvrtc-cu11==11.7.99 in /home/local/PARTNERS/yl463/anaconda3/envs/VBbench/lib/python3.8/site-packages (from torch) (11.7.99)\n",
      "Requirement already satisfied: setuptools in /home/local/PARTNERS/yl463/anaconda3/envs/VBbench/lib/python3.8/site-packages (from nvidia-cublas-cu11==11.10.3.66->torch) (72.1.0)\n",
      "Requirement already satisfied: wheel in /home/local/PARTNERS/yl463/anaconda3/envs/VBbench/lib/python3.8/site-packages (from nvidia-cublas-cu11==11.10.3.66->torch) (0.44.0)\n"
     ]
    }
   ],
   "source": [
    "!pip install torch"
   ]
  }
 ],
 "metadata": {
  "kernelspec": {
   "display_name": "VBbench",
   "language": "python",
   "name": "python3"
  },
  "language_info": {
   "codemirror_mode": {
    "name": "ipython",
    "version": 3
   },
   "file_extension": ".py",
   "mimetype": "text/x-python",
   "name": "python",
   "nbconvert_exporter": "python",
   "pygments_lexer": "ipython3",
   "version": "3.8.19"
  }
 },
 "nbformat": 4,
 "nbformat_minor": 2
}
